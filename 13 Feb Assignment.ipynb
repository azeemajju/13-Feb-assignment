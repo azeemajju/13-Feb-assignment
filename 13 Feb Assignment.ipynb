{
 "cells": [
  {
   "cell_type": "markdown",
   "id": "9160ee1a",
   "metadata": {},
   "source": [
    "(Q1): Using a custom exception class allows you to define and handle exceptions specific to your application or use case. By creating a custom exception class, you can give your exceptions a meaningful name and provide additional information about the error that occurred.\n",
    "\n",
    "In Python, all exceptions are instances of a class that inherits from the built-in Exception class. When you create a custom exception class, you typically subclass the Exception class or one of its subclasses, such as ValueError or TypeError. This allows your custom exception class to inherit all the behavior and functionality of the Exception class."
   ]
  },
  {
   "cell_type": "code",
   "execution_count": 2,
   "id": "001edfe6",
   "metadata": {},
   "outputs": [
    {
     "name": "stdout",
     "output_type": "stream",
     "text": [
      "BaseException\n",
      "object\n"
     ]
    }
   ],
   "source": [
    "#(Q2):# Print Python exception hierarchy\n",
    "\n",
    "# Get the base exception class\n",
    "base_exception = BaseException\n",
    "\n",
    "# Iterate through the exception hierarchy and print each class\n",
    "while True:\n",
    "    print(base_exception.__name__)\n",
    "    if base_exception.__base__ is None:\n",
    "        break\n",
    "    base_exception = base_exception.__base__"
   ]
  },
  {
   "cell_type": "markdown",
   "id": "c7400c04",
   "metadata": {},
   "source": [
    "(Q3):The ArithmeticError class is a built-in exception class in Python that serves as a base class for arithmetic-related exceptions. It is the parent class of a number of more specific exceptions that are raised when arithmetic operations fail in some way. Two examples of exceptions that inherit from ArithmeticError are ZeroDivisionError and OverflowError.\n",
    "\n",
    "ZeroDivisionError: This exception is raised when an arithmetic operation attempts to divide a number by zero\n",
    "    \n",
    "OverflowError: This exception is raised when an arithmetic operation produces a result that is too large or too small to be represented by the available memory\n"
   ]
  },
  {
   "cell_type": "markdown",
   "id": "ad2be484",
   "metadata": {},
   "source": [
    "(Q4):The LookupError class is a built-in exception class in Python that serves as a base class for exceptions that occur when a lookup or index operation fails. It is the parent class of a number of more specific exceptions, including KeyError and IndexError.\n",
    "\n",
    "LookupError is used when there is an error in looking up or indexing a value in a collection, such as a list or a dictionary. When a lookup or index operation fails, Python raises an appropriate exception to indicate the specific reason for the failure. LookupError provides a convenient catch-all for these exceptions.\n",
    "KeyError: This exception is raised when a dictionary key is not found in the dictionary\n",
    "IndexError: This exception is raised when an attempt is made to access an index that is out of range for a sequence, such as a list or a string.\n"
   ]
  },
  {
   "cell_type": "markdown",
   "id": "8326b500",
   "metadata": {},
   "source": [
    "(Q5):In Python, ImportError is an exception that is raised when an import statement fails to find the module or module member being imported. This can happen for a number of reasons, such as a typo in the module or member name, a missing or incorrect module path, or a missing dependency."
   ]
  },
  {
   "cell_type": "markdown",
   "id": "a014f979",
   "metadata": {},
   "source": [
    "(Q6):List down some best practices for exception handling in python. \n",
    " \n",
    " Here are some best practices for exception handling in Python:\n",
    "\n",
    "Use specific exception types: Catching specific exceptions rather than generic ones can make your code more readable and maintainable. For example, use ValueError instead of Exception when you know a specific type of error could occur.\n",
    "\n",
    "Catch exceptions only when necessary: Catching exceptions when you don’t need to handle them can make debugging harder and can hide potential bugs in your code.\n",
    "\n",
    "Use try/except blocks for exceptions: Python’s try/except blocks are a great way to handle exceptions in your code. Use them to isolate and handle exceptions that could occur in your code.\n",
    "\n",
    "Use finally blocks for clean-up code: Use finally blocks to define clean-up code that should be executed regardless of whether an exception is raised or not. This can include releasing resources like files, sockets, and database connections.\n",
    "\n",
    "Use context managers: Context managers are a Python construct that helps manage resources and ensure that they are cleaned up properly. They are particularly useful when dealing with file I/O, database connections, or network sockets.\n",
    "\n",
    "Log exceptions: Logging exceptions can help you debug your code and identify potential problems in your application. Python’s logging module is a great way to log exceptions and other events in your code.\n",
    "\n",
    "Raise exceptions when appropriate: Sometimes it may be necessary to raise an exception in your code when something unexpected happens. This can help make your code more robust and can make debugging easier."
   ]
  },
  {
   "cell_type": "code",
   "execution_count": null,
   "id": "497ffe6d",
   "metadata": {},
   "outputs": [],
   "source": []
  },
  {
   "cell_type": "code",
   "execution_count": null,
   "id": "bfc1b69a",
   "metadata": {},
   "outputs": [],
   "source": []
  },
  {
   "cell_type": "code",
   "execution_count": null,
   "id": "e2abf12f",
   "metadata": {},
   "outputs": [],
   "source": []
  },
  {
   "cell_type": "code",
   "execution_count": null,
   "id": "b453c47a",
   "metadata": {},
   "outputs": [],
   "source": []
  },
  {
   "cell_type": "code",
   "execution_count": null,
   "id": "6a19b34a",
   "metadata": {},
   "outputs": [],
   "source": []
  },
  {
   "cell_type": "code",
   "execution_count": null,
   "id": "92dc3926",
   "metadata": {},
   "outputs": [],
   "source": []
  },
  {
   "cell_type": "code",
   "execution_count": null,
   "id": "7460e80d",
   "metadata": {},
   "outputs": [],
   "source": []
  },
  {
   "cell_type": "code",
   "execution_count": null,
   "id": "5a1ad3bf",
   "metadata": {},
   "outputs": [],
   "source": []
  },
  {
   "cell_type": "code",
   "execution_count": null,
   "id": "ee8b6d13",
   "metadata": {},
   "outputs": [],
   "source": []
  },
  {
   "cell_type": "code",
   "execution_count": null,
   "id": "2fd7bf6d",
   "metadata": {},
   "outputs": [],
   "source": []
  },
  {
   "cell_type": "code",
   "execution_count": null,
   "id": "e37ef870",
   "metadata": {},
   "outputs": [],
   "source": []
  },
  {
   "cell_type": "code",
   "execution_count": null,
   "id": "1fa5abcd",
   "metadata": {},
   "outputs": [],
   "source": []
  },
  {
   "cell_type": "code",
   "execution_count": null,
   "id": "a34110f2",
   "metadata": {},
   "outputs": [],
   "source": []
  },
  {
   "cell_type": "code",
   "execution_count": null,
   "id": "aceecc2c",
   "metadata": {},
   "outputs": [],
   "source": []
  },
  {
   "cell_type": "code",
   "execution_count": null,
   "id": "ec27741e",
   "metadata": {},
   "outputs": [],
   "source": []
  },
  {
   "cell_type": "code",
   "execution_count": null,
   "id": "6a91d43a",
   "metadata": {},
   "outputs": [],
   "source": []
  },
  {
   "cell_type": "code",
   "execution_count": null,
   "id": "cac76d1c",
   "metadata": {},
   "outputs": [],
   "source": []
  },
  {
   "cell_type": "code",
   "execution_count": null,
   "id": "8c92436e",
   "metadata": {},
   "outputs": [],
   "source": []
  },
  {
   "cell_type": "code",
   "execution_count": null,
   "id": "94b167ee",
   "metadata": {},
   "outputs": [],
   "source": []
  }
 ],
 "metadata": {
  "kernelspec": {
   "display_name": "Python 3 (ipykernel)",
   "language": "python",
   "name": "python3"
  },
  "language_info": {
   "codemirror_mode": {
    "name": "ipython",
    "version": 3
   },
   "file_extension": ".py",
   "mimetype": "text/x-python",
   "name": "python",
   "nbconvert_exporter": "python",
   "pygments_lexer": "ipython3",
   "version": "3.9.13"
  }
 },
 "nbformat": 4,
 "nbformat_minor": 5
}
